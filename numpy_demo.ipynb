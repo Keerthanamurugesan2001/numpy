{
 "cells": [
  {
   "cell_type": "markdown",
   "id": "823d3d16",
   "metadata": {},
   "source": [
    "NumPy — for numerical calculations.\n",
    "\n",
    "Pandas — for organizing and analyzing data."
   ]
  },
  {
   "cell_type": "markdown",
   "id": "5bfa5f1d",
   "metadata": {},
   "source": [
    "Full form: Numerical Python\n",
    "\n",
    "NumPy is like a super calculator.\n",
    "\n",
    "It helps you:\n",
    "\n",
    "Store large sets of numbers.\n",
    "\n",
    "Perform fast calculations.\n",
    "\n",
    "Work with arrays (grids of numbers)."
   ]
  },
  {
   "cell_type": "markdown",
   "id": "17f17fff",
   "metadata": {},
   "source": [
    "Pandas is like a smart notebook.\n",
    "\n",
    "It helps you:\n",
    "\n",
    "Organize data into tables.\n",
    "\n",
    "Label rows and columns.\n",
    "\n",
    "Clean, filter, and analyze your data easily."
   ]
  },
  {
   "cell_type": "markdown",
   "id": "be0a6d54",
   "metadata": {},
   "source": [
    "why numppy?\n",
    "NumPy is written in C, a much faster language than Python.\n",
    " NumPy arrays, everything is the same type, like all integers.\n",
    " NumPy stores data in a continuous block of memory, like a clean row of boxes."
   ]
  },
  {
   "cell_type": "code",
   "execution_count": 200,
   "id": "f0571c54",
   "metadata": {},
   "outputs": [],
   "source": [
    "import numpy as n"
   ]
  },
  {
   "cell_type": "code",
   "execution_count": 201,
   "id": "985491c9",
   "metadata": {},
   "outputs": [
    {
     "data": {
      "text/plain": [
       "array([1, 3, 5, 7])"
      ]
     },
     "execution_count": 201,
     "metadata": {},
     "output_type": "execute_result"
    }
   ],
   "source": [
    "# create a numpy array\n",
    "a = n.array([1,3,5,7])\n",
    "a"
   ]
  },
  {
   "cell_type": "code",
   "execution_count": 202,
   "id": "cf20ed1c",
   "metadata": {},
   "outputs": [
    {
     "data": {
      "text/plain": [
       "array([0, 2, 4, 6, 8])"
      ]
     },
     "execution_count": 202,
     "metadata": {},
     "output_type": "execute_result"
    }
   ],
   "source": [
    "a = n.arange(start = 0, stop=10, step=2)\n",
    "a"
   ]
  },
  {
   "cell_type": "code",
   "execution_count": 203,
   "id": "58099586",
   "metadata": {},
   "outputs": [],
   "source": [
    "# shape and dimension array\n",
    "x = n.array([1,2,3,4])\n",
    "x1 = n.array([[1,2,3],[4,5,6]])"
   ]
  },
  {
   "cell_type": "code",
   "execution_count": 204,
   "id": "dce53e7a",
   "metadata": {},
   "outputs": [
    {
     "name": "stdout",
     "output_type": "stream",
     "text": [
      "1\n",
      "2\n"
     ]
    }
   ],
   "source": [
    "print(x.ndim)\n",
    "print(x1.ndim)"
   ]
  },
  {
   "cell_type": "code",
   "execution_count": 205,
   "id": "82640740",
   "metadata": {},
   "outputs": [
    {
     "name": "stdout",
     "output_type": "stream",
     "text": [
      "(4,)\n"
     ]
    }
   ],
   "source": [
    "x = n.array([1,2,3,4])\n",
    "print(x.shape)"
   ]
  },
  {
   "cell_type": "code",
   "execution_count": 206,
   "id": "6ffc6eeb",
   "metadata": {},
   "outputs": [
    {
     "name": "stdout",
     "output_type": "stream",
     "text": [
      "(2, 6)\n"
     ]
    }
   ],
   "source": [
    "x1= n.array([[1,2,3,4,5,6],[1,2,3,4,5,7]])\n",
    "print(x1.shape)"
   ]
  },
  {
   "cell_type": "code",
   "execution_count": 207,
   "id": "8800d88c",
   "metadata": {},
   "outputs": [
    {
     "name": "stdout",
     "output_type": "stream",
     "text": [
      "(4,)\n"
     ]
    }
   ],
   "source": [
    "x = n.array([1,2,3,4],[])\n",
    "print(x.shape)"
   ]
  },
  {
   "cell_type": "code",
   "execution_count": 292,
   "id": "6b2e1436",
   "metadata": {},
   "outputs": [
    {
     "data": {
      "text/plain": [
       "4"
      ]
     },
     "execution_count": 292,
     "metadata": {},
     "output_type": "execute_result"
    }
   ],
   "source": [
    "x.size"
   ]
  },
  {
   "cell_type": "code",
   "execution_count": 293,
   "id": "6bb0b318",
   "metadata": {},
   "outputs": [
    {
     "data": {
      "text/plain": [
       "array([[0., 0., 0.],\n",
       "       [0., 0., 0.]])"
      ]
     },
     "execution_count": 293,
     "metadata": {},
     "output_type": "execute_result"
    }
   ],
   "source": [
    "n.zeros((2,3))"
   ]
  },
  {
   "cell_type": "code",
   "execution_count": 294,
   "id": "fb15f77e",
   "metadata": {},
   "outputs": [
    {
     "data": {
      "text/plain": [
       "array([[1., 1., 1.],\n",
       "       [1., 1., 1.]])"
      ]
     },
     "execution_count": 294,
     "metadata": {},
     "output_type": "execute_result"
    }
   ],
   "source": [
    "n.ones((2,3))"
   ]
  },
  {
   "cell_type": "code",
   "execution_count": 295,
   "id": "2e61dc90",
   "metadata": {},
   "outputs": [
    {
     "data": {
      "text/plain": [
       "array([ 0. ,  2.5,  5. ,  7.5, 10. ])"
      ]
     },
     "execution_count": 295,
     "metadata": {},
     "output_type": "execute_result"
    }
   ],
   "source": [
    "n.linspace(0, 10, 5)"
   ]
  },
  {
   "cell_type": "code",
   "execution_count": null,
   "id": "6c262626",
   "metadata": {},
   "outputs": [
    {
     "data": {
      "text/plain": [
       "array([[0.10306378, 0.86891462],\n",
       "       [0.63076325, 0.81480769]])"
      ]
     },
     "execution_count": 296,
     "metadata": {},
     "output_type": "execute_result"
    }
   ],
   "source": [
    "n.random.rand(2, 2)\n",
    "# 0 to 1 random number in 2 dimenstions"
   ]
  },
  {
   "cell_type": "markdown",
   "id": "c1319526",
   "metadata": {},
   "source": [
    "# indexing numpy array"
   ]
  },
  {
   "cell_type": "code",
   "execution_count": 208,
   "id": "7d446bd6",
   "metadata": {},
   "outputs": [
    {
     "data": {
      "text/plain": [
       "array([ 0,  1,  2,  3,  4,  5,  6,  7,  8,  9, 10, 11, 12])"
      ]
     },
     "execution_count": 208,
     "metadata": {},
     "output_type": "execute_result"
    }
   ],
   "source": [
    "\n",
    "m1 = n.arange(13)\n",
    "m1"
   ]
  },
  {
   "cell_type": "code",
   "execution_count": 209,
   "id": "701e7d9f",
   "metadata": {},
   "outputs": [
    {
     "data": {
      "text/plain": [
       "np.int64(0)"
      ]
     },
     "execution_count": 209,
     "metadata": {},
     "output_type": "execute_result"
    }
   ],
   "source": [
    "m1[0]"
   ]
  },
  {
   "cell_type": "code",
   "execution_count": 210,
   "id": "9f650af9",
   "metadata": {},
   "outputs": [
    {
     "data": {
      "text/plain": [
       "np.int64(4)"
      ]
     },
     "execution_count": 210,
     "metadata": {},
     "output_type": "execute_result"
    }
   ],
   "source": [
    "m1[4]"
   ]
  },
  {
   "cell_type": "code",
   "execution_count": 211,
   "id": "1b9d2b60",
   "metadata": {},
   "outputs": [
    {
     "data": {
      "text/plain": [
       "np.int64(2)"
      ]
     },
     "execution_count": 211,
     "metadata": {},
     "output_type": "execute_result"
    }
   ],
   "source": [
    "m1[-11]"
   ]
  },
  {
   "cell_type": "code",
   "execution_count": 212,
   "id": "9b9fb58b",
   "metadata": {},
   "outputs": [
    {
     "data": {
      "text/plain": [
       "np.int64(0)"
      ]
     },
     "execution_count": 212,
     "metadata": {},
     "output_type": "execute_result"
    }
   ],
   "source": [
    "m1[-0]"
   ]
  },
  {
   "cell_type": "code",
   "execution_count": 213,
   "id": "ba5d86d7",
   "metadata": {},
   "outputs": [
    {
     "data": {
      "text/plain": [
       "np.int64(12)"
      ]
     },
     "execution_count": 213,
     "metadata": {},
     "output_type": "execute_result"
    }
   ],
   "source": [
    "m1[-1]"
   ]
  },
  {
   "cell_type": "code",
   "execution_count": 214,
   "id": "decd8764",
   "metadata": {},
   "outputs": [
    {
     "data": {
      "text/plain": [
       "array([100, 200, 300, 400, 500])"
      ]
     },
     "execution_count": 214,
     "metadata": {},
     "output_type": "execute_result"
    }
   ],
   "source": [
    "m1 = n.array([100, 200, 300, 400, 500])\n",
    "m1"
   ]
  },
  {
   "cell_type": "code",
   "execution_count": 215,
   "id": "81353e20",
   "metadata": {},
   "outputs": [
    {
     "data": {
      "text/plain": [
       "array([500, 400, 300, 200, 100])"
      ]
     },
     "execution_count": 215,
     "metadata": {},
     "output_type": "execute_result"
    }
   ],
   "source": [
    "m1[[4,3,2,1,0]]"
   ]
  },
  {
   "cell_type": "code",
   "execution_count": 216,
   "id": "0f555630",
   "metadata": {},
   "outputs": [
    {
     "data": {
      "text/plain": [
       "array([300, 300, 400, 200, 100])"
      ]
     },
     "execution_count": 216,
     "metadata": {},
     "output_type": "execute_result"
    }
   ],
   "source": [
    "m1[[2,2,3,1,0]]"
   ]
  },
  {
   "cell_type": "markdown",
   "id": "20f28b35",
   "metadata": {},
   "source": [
    "# slicing numpy array"
   ]
  },
  {
   "cell_type": "code",
   "execution_count": 217,
   "id": "ab90d6c7",
   "metadata": {},
   "outputs": [
    {
     "data": {
      "text/plain": [
       "array([ 0,  1,  2,  3,  4,  5,  6,  7,  8,  9, 10, 11])"
      ]
     },
     "execution_count": 217,
     "metadata": {},
     "output_type": "execute_result"
    }
   ],
   "source": [
    "\n",
    "#  arr[start:end:step]\n",
    "m = n.arange(12)\n",
    "m"
   ]
  },
  {
   "cell_type": "code",
   "execution_count": 218,
   "id": "73828c52",
   "metadata": {},
   "outputs": [
    {
     "data": {
      "text/plain": [
       "array([0, 1, 2, 3, 4])"
      ]
     },
     "execution_count": 218,
     "metadata": {},
     "output_type": "execute_result"
    }
   ],
   "source": [
    "m[:5]"
   ]
  },
  {
   "cell_type": "code",
   "execution_count": 219,
   "id": "1949ca3c",
   "metadata": {},
   "outputs": [
    {
     "data": {
      "text/plain": [
       "array([ 5,  6,  7,  8,  9, 10, 11])"
      ]
     },
     "execution_count": 219,
     "metadata": {},
     "output_type": "execute_result"
    }
   ],
   "source": [
    "m[5:]"
   ]
  },
  {
   "cell_type": "code",
   "execution_count": 220,
   "id": "1bd25a76",
   "metadata": {},
   "outputs": [
    {
     "data": {
      "text/plain": [
       "array([ 0,  1,  2,  3,  4,  5,  6,  7,  8,  9, 10])"
      ]
     },
     "execution_count": 220,
     "metadata": {},
     "output_type": "execute_result"
    }
   ],
   "source": [
    "m[:-1]"
   ]
  },
  {
   "cell_type": "code",
   "execution_count": 221,
   "id": "920ace22",
   "metadata": {},
   "outputs": [
    {
     "data": {
      "text/plain": [
       "array([ 7,  8,  9, 10])"
      ]
     },
     "execution_count": 221,
     "metadata": {},
     "output_type": "execute_result"
    }
   ],
   "source": [
    "m[-5:-1]"
   ]
  },
  {
   "cell_type": "code",
   "execution_count": 222,
   "id": "da8a6157",
   "metadata": {},
   "outputs": [
    {
     "data": {
      "text/plain": [
       "array([7, 6, 5, 4, 3, 2])"
      ]
     },
     "execution_count": 222,
     "metadata": {},
     "output_type": "execute_result"
    }
   ],
   "source": [
    "m[-5:1:-1]"
   ]
  },
  {
   "cell_type": "code",
   "execution_count": 223,
   "id": "75ebe14b",
   "metadata": {},
   "outputs": [
    {
     "data": {
      "text/plain": [
       "array([ 7,  8,  9, 10])"
      ]
     },
     "execution_count": 223,
     "metadata": {},
     "output_type": "execute_result"
    }
   ],
   "source": [
    "m[-5:-1:1]"
   ]
  },
  {
   "cell_type": "code",
   "execution_count": 224,
   "id": "b5daeba6",
   "metadata": {},
   "outputs": [
    {
     "data": {
      "text/plain": [
       "array([ 5,  6,  7,  8,  9, 10])"
      ]
     },
     "execution_count": 224,
     "metadata": {},
     "output_type": "execute_result"
    }
   ],
   "source": [
    "m[5:-1:1]"
   ]
  },
  {
   "cell_type": "markdown",
   "id": "650f9f29",
   "metadata": {},
   "source": [
    "#fancy indexing"
   ]
  },
  {
   "cell_type": "code",
   "execution_count": 225,
   "id": "657562e2",
   "metadata": {},
   "outputs": [
    {
     "data": {
      "text/plain": [
       "array([0, 1, 2, 3, 4, 5, 6, 7, 8, 9])"
      ]
     },
     "execution_count": 225,
     "metadata": {},
     "output_type": "execute_result"
    }
   ],
   "source": [
    "\n",
    "m = n.arange(10)\n",
    "m"
   ]
  },
  {
   "cell_type": "code",
   "execution_count": 226,
   "id": "37f36c1a",
   "metadata": {},
   "outputs": [
    {
     "data": {
      "text/plain": [
       "array([ True,  True,  True,  True,  True, False, False, False, False,\n",
       "       False])"
      ]
     },
     "execution_count": 226,
     "metadata": {},
     "output_type": "execute_result"
    }
   ],
   "source": [
    "m<5"
   ]
  },
  {
   "cell_type": "code",
   "execution_count": 227,
   "id": "a4b71f53",
   "metadata": {},
   "outputs": [
    {
     "data": {
      "text/plain": [
       "array([0, 1, 2, 3, 4])"
      ]
     },
     "execution_count": 227,
     "metadata": {},
     "output_type": "execute_result"
    }
   ],
   "source": [
    "m[m<5]"
   ]
  },
  {
   "cell_type": "code",
   "execution_count": 228,
   "id": "f6b21b20",
   "metadata": {},
   "outputs": [
    {
     "data": {
      "text/plain": [
       "[np.int64(0), np.int64(1), np.int64(2), np.int64(3), np.int64(4)]"
      ]
     },
     "execution_count": 228,
     "metadata": {},
     "output_type": "execute_result"
    }
   ],
   "source": [
    "v = filter(lambda x: x<5, m)\n",
    "list(v)"
   ]
  },
  {
   "cell_type": "code",
   "execution_count": 229,
   "id": "7ece65c2",
   "metadata": {},
   "outputs": [
    {
     "data": {
      "text/plain": [
       "array([0, 2, 4, 5, 6, 8])"
      ]
     },
     "execution_count": 229,
     "metadata": {},
     "output_type": "execute_result"
    }
   ],
   "source": [
    "m[(m%2 == 0) | (m%5 == 0)]"
   ]
  },
  {
   "cell_type": "code",
   "execution_count": 230,
   "id": "d26b1a9d",
   "metadata": {},
   "outputs": [
    {
     "data": {
      "text/plain": [
       "array([ True, False,  True, False,  True,  True,  True, False,  True,\n",
       "       False])"
      ]
     },
     "execution_count": 230,
     "metadata": {},
     "output_type": "execute_result"
    }
   ],
   "source": [
    "(m%2 == 0) | (m%5 == 0)"
   ]
  },
  {
   "cell_type": "code",
   "execution_count": 231,
   "id": "174d6e5c",
   "metadata": {},
   "outputs": [
    {
     "data": {
      "text/plain": [
       "np.float64(4.5)"
      ]
     },
     "execution_count": 231,
     "metadata": {},
     "output_type": "execute_result"
    }
   ],
   "source": [
    "# aggregate and reduction function\n",
    "n.mean(m)"
   ]
  },
  {
   "cell_type": "code",
   "execution_count": 232,
   "id": "f178df7a",
   "metadata": {},
   "outputs": [
    {
     "data": {
      "text/plain": [
       "np.float64(5.0)"
      ]
     },
     "execution_count": 232,
     "metadata": {},
     "output_type": "execute_result"
    }
   ],
   "source": [
    "n.mean([1,2,3,4,10,10])"
   ]
  },
  {
   "cell_type": "code",
   "execution_count": 233,
   "id": "cf7c3da8",
   "metadata": {},
   "outputs": [
    {
     "data": {
      "text/plain": [
       "np.int64(0)"
      ]
     },
     "execution_count": 233,
     "metadata": {},
     "output_type": "execute_result"
    }
   ],
   "source": [
    "n.min(m)"
   ]
  },
  {
   "cell_type": "code",
   "execution_count": 234,
   "id": "10885774",
   "metadata": {},
   "outputs": [
    {
     "data": {
      "text/plain": [
       "np.int64(9)"
      ]
     },
     "execution_count": 234,
     "metadata": {},
     "output_type": "execute_result"
    }
   ],
   "source": [
    "n.max(m)"
   ]
  },
  {
   "cell_type": "markdown",
   "id": "552099ec",
   "metadata": {},
   "source": [
    "position is the smallest value"
   ]
  },
  {
   "cell_type": "code",
   "execution_count": 235,
   "id": "7fa0222e",
   "metadata": {},
   "outputs": [
    {
     "name": "stdout",
     "output_type": "stream",
     "text": [
      "0\n"
     ]
    },
    {
     "data": {
      "text/plain": [
       "np.int64(2)"
      ]
     },
     "execution_count": 235,
     "metadata": {},
     "output_type": "execute_result"
    }
   ],
   "source": [
    "print(n.argmin(m))\n",
    "n.argmin([13,14, 3, 12, 9])\n"
   ]
  },
  {
   "cell_type": "code",
   "execution_count": 236,
   "id": "0fbb1a49",
   "metadata": {},
   "outputs": [
    {
     "data": {
      "text/plain": [
       "np.int64(4)"
      ]
     },
     "execution_count": 236,
     "metadata": {},
     "output_type": "execute_result"
    }
   ],
   "source": [
    "n.argmax(m)\n",
    "n.argmax([13,14, 3, 12, 19])"
   ]
  },
  {
   "cell_type": "markdown",
   "id": "88e70d55",
   "metadata": {},
   "source": [
    "# any and all"
   ]
  },
  {
   "cell_type": "code",
   "execution_count": 237,
   "id": "3df66765",
   "metadata": {},
   "outputs": [
    {
     "data": {
      "text/plain": [
       "np.True_"
      ]
     },
     "execution_count": 237,
     "metadata": {},
     "output_type": "execute_result"
    }
   ],
   "source": [
    "\n",
    "a = n.array([1,2,3,4])\n",
    "b = n.array([2,3,4,5])\n",
    "n.any(a<b)"
   ]
  },
  {
   "cell_type": "code",
   "execution_count": 238,
   "id": "9d934f56",
   "metadata": {},
   "outputs": [
    {
     "data": {
      "text/plain": [
       "np.False_"
      ]
     },
     "execution_count": 238,
     "metadata": {},
     "output_type": "execute_result"
    }
   ],
   "source": [
    "n.any(a>b)"
   ]
  },
  {
   "cell_type": "code",
   "execution_count": 239,
   "id": "42c2c2df",
   "metadata": {},
   "outputs": [
    {
     "data": {
      "text/plain": [
       "np.True_"
      ]
     },
     "execution_count": 239,
     "metadata": {},
     "output_type": "execute_result"
    }
   ],
   "source": [
    "n.all(a<b)"
   ]
  },
  {
   "cell_type": "code",
   "execution_count": 240,
   "id": "34870edc",
   "metadata": {},
   "outputs": [
    {
     "data": {
      "text/plain": [
       "np.False_"
      ]
     },
     "execution_count": 240,
     "metadata": {},
     "output_type": "execute_result"
    }
   ],
   "source": [
    "n.all(b<a)"
   ]
  },
  {
   "cell_type": "code",
   "execution_count": 241,
   "id": "e4f9ba85",
   "metadata": {},
   "outputs": [
    {
     "data": {
      "text/plain": [
       "np.True_"
      ]
     },
     "execution_count": 241,
     "metadata": {},
     "output_type": "execute_result"
    }
   ],
   "source": [
    "a = n.array([1,2,3,2])\n",
    "b = n.array([2,2,3,2])\n",
    "c = n.array([6,4,4,5])\n",
    "((a <= b) & (b <= c)).all()"
   ]
  },
  {
   "cell_type": "markdown",
   "id": "cf7f4461",
   "metadata": {},
   "source": [
    "# update array based on condition / np.where"
   ]
  },
  {
   "cell_type": "code",
   "execution_count": null,
   "id": "be3929f8",
   "metadata": {},
   "outputs": [],
   "source": []
  },
  {
   "cell_type": "code",
   "execution_count": 242,
   "id": "e0f104d2",
   "metadata": {},
   "outputs": [
    {
     "data": {
      "text/plain": [
       "array([-31,  -2,   9,  -3,  -5,   7,   9,  45, -34,  -9])"
      ]
     },
     "execution_count": 242,
     "metadata": {},
     "output_type": "execute_result"
    }
   ],
   "source": [
    "arr = n.array([-31, -2, 9, -3, -5, 7, 9, 45, -34, -9])\n",
    "arr"
   ]
  },
  {
   "cell_type": "code",
   "execution_count": 243,
   "id": "7eb56cea",
   "metadata": {},
   "outputs": [
    {
     "data": {
      "text/plain": [
       "array([-31,  -2,  -3,  -5, -34,  -9])"
      ]
     },
     "execution_count": 243,
     "metadata": {},
     "output_type": "execute_result"
    }
   ],
   "source": [
    "arr[arr<0]"
   ]
  },
  {
   "cell_type": "code",
   "execution_count": 244,
   "id": "828debc2",
   "metadata": {},
   "outputs": [],
   "source": [
    "arr[arr<0] = -1\n"
   ]
  },
  {
   "cell_type": "code",
   "execution_count": 245,
   "id": "a2a5fcca",
   "metadata": {},
   "outputs": [
    {
     "data": {
      "text/plain": [
       "array([-1, -1,  9, -1, -1,  7,  9, 45, -1, -1])"
      ]
     },
     "execution_count": 245,
     "metadata": {},
     "output_type": "execute_result"
    }
   ],
   "source": [
    "arr"
   ]
  },
  {
   "cell_type": "code",
   "execution_count": 246,
   "id": "8f89bf6d",
   "metadata": {},
   "outputs": [],
   "source": [
    "arr[arr>0] = 1"
   ]
  },
  {
   "cell_type": "code",
   "execution_count": 247,
   "id": "3e51cda5",
   "metadata": {},
   "outputs": [
    {
     "data": {
      "text/plain": [
       "array([-1, -1,  1, -1, -1,  1,  1,  1, -1, -1])"
      ]
     },
     "execution_count": 247,
     "metadata": {},
     "output_type": "execute_result"
    }
   ],
   "source": [
    "arr"
   ]
  },
  {
   "cell_type": "code",
   "execution_count": 248,
   "id": "4746ee6b",
   "metadata": {},
   "outputs": [],
   "source": [
    "arr = n.array([-31, -2, 9, -3, -5, 7, 9, 45, -34, -9])"
   ]
  },
  {
   "cell_type": "code",
   "execution_count": 249,
   "id": "939f5ff3",
   "metadata": {},
   "outputs": [
    {
     "data": {
      "text/plain": [
       "array([-1, -1,  1, -1, -1,  1,  1,  1, -1, -1])"
      ]
     },
     "execution_count": 249,
     "metadata": {},
     "output_type": "execute_result"
    }
   ],
   "source": [
    "n.where(arr > 0, +1, -1)"
   ]
  },
  {
   "cell_type": "markdown",
   "id": "e0c16c92",
   "metadata": {},
   "source": [
    "# sorting array"
   ]
  },
  {
   "cell_type": "code",
   "execution_count": 250,
   "id": "fc786299",
   "metadata": {},
   "outputs": [],
   "source": [
    "\n",
    "a = n.array([2,30, 41,7,17, 52])"
   ]
  },
  {
   "cell_type": "code",
   "execution_count": 251,
   "id": "5224ef6d",
   "metadata": {},
   "outputs": [
    {
     "data": {
      "text/plain": [
       "array([ 2,  7, 17, 30, 41, 52])"
      ]
     },
     "execution_count": 251,
     "metadata": {},
     "output_type": "execute_result"
    }
   ],
   "source": [
    "n.sort(a)"
   ]
  },
  {
   "cell_type": "code",
   "execution_count": 252,
   "id": "4b2b7607",
   "metadata": {},
   "outputs": [
    {
     "data": {
      "text/plain": [
       "array([[9, 8, 7],\n",
       "       [6, 5, 4],\n",
       "       [3, 2, 1]])"
      ]
     },
     "execution_count": 252,
     "metadata": {},
     "output_type": "execute_result"
    }
   ],
   "source": [
    "a=n.arange(9, 0, -1).reshape(3,3)\n",
    "a"
   ]
  },
  {
   "cell_type": "code",
   "execution_count": 253,
   "id": "ad9f05f7",
   "metadata": {},
   "outputs": [
    {
     "data": {
      "text/plain": [
       "array([[7, 8, 9],\n",
       "       [4, 5, 6],\n",
       "       [1, 2, 3]])"
      ]
     },
     "execution_count": 253,
     "metadata": {},
     "output_type": "execute_result"
    }
   ],
   "source": [
    "n.sort(a) # defualt axis=1"
   ]
  },
  {
   "cell_type": "code",
   "execution_count": 254,
   "id": "c4b3cd4b",
   "metadata": {},
   "outputs": [
    {
     "data": {
      "text/plain": [
       "array([[9, 8, 7],\n",
       "       [6, 5, 4],\n",
       "       [3, 2, 1]])"
      ]
     },
     "execution_count": 254,
     "metadata": {},
     "output_type": "execute_result"
    }
   ],
   "source": [
    "a"
   ]
  },
  {
   "cell_type": "code",
   "execution_count": 255,
   "id": "2b3458c9",
   "metadata": {},
   "outputs": [
    {
     "data": {
      "text/plain": [
       "array([[7, 8, 9],\n",
       "       [4, 5, 6],\n",
       "       [1, 2, 3]])"
      ]
     },
     "execution_count": 255,
     "metadata": {},
     "output_type": "execute_result"
    }
   ],
   "source": [
    "n.sort(a, axis=1)#  1 is x-axis"
   ]
  },
  {
   "cell_type": "code",
   "execution_count": 256,
   "id": "592263a6",
   "metadata": {},
   "outputs": [
    {
     "data": {
      "text/plain": [
       "array([[3, 2, 1],\n",
       "       [6, 5, 4],\n",
       "       [9, 8, 7]])"
      ]
     },
     "execution_count": 256,
     "metadata": {},
     "output_type": "execute_result"
    }
   ],
   "source": [
    "n.sort(a, axis=0)"
   ]
  },
  {
   "cell_type": "code",
   "execution_count": 257,
   "id": "a293af08",
   "metadata": {},
   "outputs": [
    {
     "data": {
      "text/plain": [
       "array([[ 9,  8,  7],\n",
       "       [36,  5,  4],\n",
       "       [ 3,  2,  1]])"
      ]
     },
     "execution_count": 257,
     "metadata": {},
     "output_type": "execute_result"
    }
   ],
   "source": [
    "a[1,0] = 36\n",
    "a"
   ]
  },
  {
   "cell_type": "code",
   "execution_count": 258,
   "id": "7177f5f0",
   "metadata": {},
   "outputs": [],
   "source": [
    "a=n.sort(a, axis=0) # 0 is y-axis"
   ]
  },
  {
   "cell_type": "code",
   "execution_count": 259,
   "id": "7d71df82",
   "metadata": {},
   "outputs": [
    {
     "data": {
      "text/plain": [
       "array([[ 3,  2,  1],\n",
       "       [ 9,  5,  4],\n",
       "       [36,  8,  7]])"
      ]
     },
     "execution_count": 259,
     "metadata": {},
     "output_type": "execute_result"
    }
   ],
   "source": [
    "a"
   ]
  },
  {
   "cell_type": "code",
   "execution_count": 260,
   "id": "7367ec73",
   "metadata": {},
   "outputs": [
    {
     "data": {
      "text/plain": [
       "array([ 2, 30, 41,  7, 17,  8,  9])"
      ]
     },
     "execution_count": 260,
     "metadata": {},
     "output_type": "execute_result"
    }
   ],
   "source": [
    "a = n.array([2, 30, 41, 7, 17,8, 9])\n",
    "a"
   ]
  },
  {
   "cell_type": "code",
   "execution_count": 261,
   "id": "689ed66c",
   "metadata": {},
   "outputs": [
    {
     "data": {
      "text/plain": [
       "array([0, 3, 5, 6, 4, 1, 2])"
      ]
     },
     "execution_count": 261,
     "metadata": {},
     "output_type": "execute_result"
    }
   ],
   "source": [
    "n.argsort(a)"
   ]
  },
  {
   "cell_type": "code",
   "execution_count": 262,
   "id": "19e883b5",
   "metadata": {},
   "outputs": [
    {
     "data": {
      "text/plain": [
       "array([ 2,  7,  8,  9, 17, 30, 41])"
      ]
     },
     "execution_count": 262,
     "metadata": {},
     "output_type": "execute_result"
    }
   ],
   "source": [
    "n.sort(a)"
   ]
  },
  {
   "cell_type": "markdown",
   "id": "5a9fa801",
   "metadata": {},
   "source": [
    "# Reshape and Flatten"
   ]
  },
  {
   "cell_type": "code",
   "execution_count": 263,
   "id": "f037f455",
   "metadata": {},
   "outputs": [
    {
     "data": {
      "text/plain": [
       "array([[0, 1],\n",
       "       [2, 3],\n",
       "       [4, 5]])"
      ]
     },
     "execution_count": 263,
     "metadata": {},
     "output_type": "execute_result"
    }
   ],
   "source": [
    "a = n.arange(6).reshape(3,2)\n",
    "a"
   ]
  },
  {
   "cell_type": "code",
   "execution_count": 264,
   "id": "5826be0a",
   "metadata": {},
   "outputs": [
    {
     "data": {
      "text/plain": [
       "array([0, 1, 2, 3, 4, 5])"
      ]
     },
     "execution_count": 264,
     "metadata": {},
     "output_type": "execute_result"
    }
   ],
   "source": [
    "a.flatten()"
   ]
  },
  {
   "cell_type": "code",
   "execution_count": 265,
   "id": "8cc34059",
   "metadata": {},
   "outputs": [
    {
     "data": {
      "text/plain": [
       "array([0, 1, 2, 3, 4, 5])"
      ]
     },
     "execution_count": 265,
     "metadata": {},
     "output_type": "execute_result"
    }
   ],
   "source": [
    "a.reshape(6)"
   ]
  },
  {
   "cell_type": "code",
   "execution_count": 266,
   "id": "442e568d",
   "metadata": {},
   "outputs": [
    {
     "data": {
      "text/plain": [
       "array([0, 1, 2, 3, 4, 5])"
      ]
     },
     "execution_count": 266,
     "metadata": {},
     "output_type": "execute_result"
    }
   ],
   "source": [
    "a.reshape(len(a)*len(a[0]))"
   ]
  },
  {
   "cell_type": "code",
   "execution_count": 267,
   "id": "63ca2c8b",
   "metadata": {},
   "outputs": [
    {
     "data": {
      "text/plain": [
       "array([0, 1, 2, 3, 4, 5])"
      ]
     },
     "execution_count": 267,
     "metadata": {},
     "output_type": "execute_result"
    }
   ],
   "source": [
    "a.reshape(-1)"
   ]
  },
  {
   "cell_type": "code",
   "execution_count": 268,
   "id": "78c54eef",
   "metadata": {},
   "outputs": [
    {
     "data": {
      "text/plain": [
       "array([0, 1, 2, 3, 4, 5])"
      ]
     },
     "execution_count": 268,
     "metadata": {},
     "output_type": "execute_result"
    }
   ],
   "source": [
    "a.reshape(-6)"
   ]
  },
  {
   "cell_type": "markdown",
   "id": "d9568e5e",
   "metadata": {},
   "source": [
    "# matrix multiplication"
   ]
  },
  {
   "cell_type": "code",
   "execution_count": 269,
   "id": "bb59dab6",
   "metadata": {},
   "outputs": [],
   "source": [
    "\n",
    "# column of a = 4 and row of b = 4"
   ]
  },
  {
   "cell_type": "code",
   "execution_count": 270,
   "id": "52bbdaa8",
   "metadata": {},
   "outputs": [
    {
     "data": {
      "text/plain": [
       "array([[ 0,  1,  2],\n",
       "       [ 3,  4,  5],\n",
       "       [ 6,  7,  8],\n",
       "       [ 9, 10, 11]])"
      ]
     },
     "execution_count": 270,
     "metadata": {},
     "output_type": "execute_result"
    }
   ],
   "source": [
    "a = n.arange(12).reshape(4,3)# column of a = 4, row of a = 3\n",
    "a"
   ]
  },
  {
   "cell_type": "code",
   "execution_count": 271,
   "id": "6700574e",
   "metadata": {},
   "outputs": [
    {
     "data": {
      "text/plain": [
       "array([[ 0,  1,  2],\n",
       "       [ 3,  4,  5],\n",
       "       [ 6,  7,  8],\n",
       "       [ 9, 10, 11]])"
      ]
     },
     "execution_count": 271,
     "metadata": {},
     "output_type": "execute_result"
    }
   ],
   "source": [
    "b= n.arange(12).reshape(4,3)# column of a = 3, row of a = 4\n",
    "b"
   ]
  },
  {
   "attachments": {
    "dot_product.jpg": {
     "image/jpeg": "[encoded data removed]"
    }
   },
   "cell_type": "markdown",
   "id": "c7d2952d",
   "metadata": {},
   "source": [
    "![dot_product.jpg](attachment:dot_product.jpg)"
   ]
  },
  {
   "cell_type": "code",
   "execution_count": 272,
   "id": "7eac506c",
   "metadata": {},
   "outputs": [
    {
     "data": {
      "text/plain": [
       "array([[  0,   1,   4],\n",
       "       [  9,  16,  25],\n",
       "       [ 36,  49,  64],\n",
       "       [ 81, 100, 121]])"
      ]
     },
     "execution_count": 272,
     "metadata": {},
     "output_type": "execute_result"
    }
   ],
   "source": [
    "a.reshape(4,3)*b # row and column should be same like size 4*3, 4*3"
   ]
  },
  {
   "cell_type": "code",
   "execution_count": 273,
   "id": "33178857",
   "metadata": {},
   "outputs": [
    {
     "data": {
      "text/plain": [
       "array([[ 0,  1,  2,  3],\n",
       "       [ 4,  5,  6,  7],\n",
       "       [ 8,  9, 10, 11]])"
      ]
     },
     "execution_count": 273,
     "metadata": {},
     "output_type": "execute_result"
    }
   ],
   "source": [
    "a = n.arange(12).reshape(3, 4)# column of a = 4, row of a = 3\n",
    "a"
   ]
  },
  {
   "attachments": {
    "scalar_product.png": {
     "image/png": "[encoded data removed]"
    }
   },
   "cell_type": "markdown",
   "id": "0c1055eb",
   "metadata": {},
   "source": [
    "![scalar_product.png](attachment:scalar_product.png)"
   ]
  },
  {
   "cell_type": "code",
   "execution_count": 274,
   "id": "814452f2",
   "metadata": {},
   "outputs": [
    {
     "data": {
      "text/plain": [
       "array([[ 42,  48,  54],\n",
       "       [114, 136, 158],\n",
       "       [186, 224, 262]])"
      ]
     },
     "execution_count": 274,
     "metadata": {},
     "output_type": "execute_result"
    }
   ],
   "source": [
    "n.matmul(a,b)"
   ]
  },
  {
   "cell_type": "code",
   "execution_count": 275,
   "id": "2f633404",
   "metadata": {},
   "outputs": [
    {
     "data": {
      "text/plain": [
       "array([[ 42,  48,  54],\n",
       "       [114, 136, 158],\n",
       "       [186, 224, 262]])"
      ]
     },
     "execution_count": 275,
     "metadata": {},
     "output_type": "execute_result"
    }
   ],
   "source": [
    "a@b"
   ]
  },
  {
   "cell_type": "code",
   "execution_count": 276,
   "id": "de8d8205",
   "metadata": {},
   "outputs": [
    {
     "data": {
      "text/plain": [
       "array([[ 0,  1,  2,  3],\n",
       "       [ 4,  5,  6,  7],\n",
       "       [ 8,  9, 10, 11],\n",
       "       [12, 13, 14, 15]])"
      ]
     },
     "execution_count": 276,
     "metadata": {},
     "output_type": "execute_result"
    }
   ],
   "source": [
    "c = n.arange(16).reshape(4,4)# column of a = 4, row of a = 4\n",
    "c"
   ]
  },
  {
   "cell_type": "code",
   "execution_count": 277,
   "id": "097cc6f9",
   "metadata": {},
   "outputs": [
    {
     "data": {
      "text/plain": [
       "array([[ 56,  62,  68,  74],\n",
       "       [152, 174, 196, 218],\n",
       "       [248, 286, 324, 362]])"
      ]
     },
     "execution_count": 277,
     "metadata": {},
     "output_type": "execute_result"
    }
   ],
   "source": [
    "a@c"
   ]
  },
  {
   "cell_type": "code",
   "execution_count": 278,
   "id": "bf0e825c",
   "metadata": {},
   "outputs": [],
   "source": [
    "c = n.arange(20).reshape(5,4) #wrong row number row = 5, column = 4\n",
    "#c"
   ]
  },
  {
   "cell_type": "code",
   "execution_count": 279,
   "id": "cef8b8a7",
   "metadata": {},
   "outputs": [],
   "source": [
    "# dot product of array"
   ]
  },
  {
   "cell_type": "code",
   "execution_count": 280,
   "id": "c38f5fd2",
   "metadata": {},
   "outputs": [
    {
     "data": {
      "text/plain": [
       "np.int64(6)"
      ]
     },
     "execution_count": 280,
     "metadata": {},
     "output_type": "execute_result"
    }
   ],
   "source": [
    "n.dot(3,2)"
   ]
  },
  {
   "cell_type": "code",
   "execution_count": 281,
   "id": "20eb2bfd",
   "metadata": {},
   "outputs": [
    {
     "name": "stdout",
     "output_type": "stream",
     "text": [
      "[1 2 3] [4 5 6]\n"
     ]
    }
   ],
   "source": [
    "# 1-D is inner product of vector\n",
    "a = n.array([1,2,3])\n",
    "b = n.array([4,5,6])\n",
    "print(a, b)"
   ]
  },
  {
   "attachments": {
    "dot_product.jpg": {
     "image/jpeg": "[encoded data removed]"
    }
   },
   "cell_type": "markdown",
   "id": "e5a1667d",
   "metadata": {},
   "source": [
    "![dot_product.jpg](attachment:dot_product.jpg)"
   ]
  },
  {
   "cell_type": "code",
   "execution_count": 282,
   "id": "0da39e41",
   "metadata": {},
   "outputs": [
    {
     "data": {
      "text/plain": [
       "np.int64(32)"
      ]
     },
     "execution_count": 282,
     "metadata": {},
     "output_type": "execute_result"
    }
   ],
   "source": [
    "n.dot(a,b)  "
   ]
  },
  {
   "cell_type": "code",
   "execution_count": 283,
   "id": "f19683d8",
   "metadata": {},
   "outputs": [
    {
     "name": "stdout",
     "output_type": "stream",
     "text": [
      "[[ 0  1  2  3]\n",
      " [ 4  5  6  7]\n",
      " [ 8  9 10 11]] [[ 0  1  2]\n",
      " [ 3  4  5]\n",
      " [ 6  7  8]\n",
      " [ 9 10 11]]\n"
     ]
    }
   ],
   "source": [
    "# 2-D is matrix multiplication\n",
    "a = n.arange(12).reshape(3,4)\n",
    "b = n.arange(12).reshape(4,3)\n",
    "print(a, b)"
   ]
  },
  {
   "attachments": {
    "scalar_product.png": {
     "image/png": "[encoded data removed]"
    }
   },
   "cell_type": "markdown",
   "id": "0b0ea0f6",
   "metadata": {},
   "source": [
    "![scalar_product.png](attachment:scalar_product.png)"
   ]
  },
  {
   "cell_type": "code",
   "execution_count": 284,
   "id": "a48caf69",
   "metadata": {},
   "outputs": [
    {
     "data": {
      "text/plain": [
       "array([[ 42,  48,  54],\n",
       "       [114, 136, 158],\n",
       "       [186, 224, 262]])"
      ]
     },
     "execution_count": 284,
     "metadata": {},
     "output_type": "execute_result"
    }
   ],
   "source": [
    "c=n.dot(a,b)\n",
    "c"
   ]
  },
  {
   "cell_type": "markdown",
   "id": "a6b78982",
   "metadata": {},
   "source": [
    "Transpose"
   ]
  },
  {
   "cell_type": "code",
   "execution_count": 285,
   "id": "a6a99f2f",
   "metadata": {},
   "outputs": [
    {
     "data": {
      "text/plain": [
       "array([[ 42, 114, 186],\n",
       "       [ 48, 136, 224],\n",
       "       [ 54, 158, 262]])"
      ]
     },
     "execution_count": 285,
     "metadata": {},
     "output_type": "execute_result"
    }
   ],
   "source": [
    "c.T"
   ]
  },
  {
   "cell_type": "code",
   "execution_count": 286,
   "id": "a1a1ed5c",
   "metadata": {},
   "outputs": [
    {
     "name": "stdout",
     "output_type": "stream",
     "text": [
      "1 2\n"
     ]
    }
   ],
   "source": [
    "# 0-D is multiply or a*b\n",
    "a = n.array(1)\n",
    "b = n.array(2)\n",
    "print(a, b)"
   ]
  },
  {
   "cell_type": "code",
   "execution_count": 287,
   "id": "2c3dec9d",
   "metadata": {},
   "outputs": [
    {
     "data": {
      "text/plain": [
       "np.int64(2)"
      ]
     },
     "execution_count": 287,
     "metadata": {},
     "output_type": "execute_result"
    }
   ],
   "source": [
    "n.dot(a,b)"
   ]
  },
  {
   "cell_type": "code",
   "execution_count": 288,
   "id": "54c7ccb2",
   "metadata": {},
   "outputs": [
    {
     "data": {
      "text/plain": [
       "np.int64(2)"
      ]
     },
     "execution_count": 288,
     "metadata": {},
     "output_type": "execute_result"
    }
   ],
   "source": [
    "n.multiply(a, b)"
   ]
  },
  {
   "cell_type": "markdown",
   "id": "d436bce2",
   "metadata": {},
   "source": [
    "# Broadcasting"
   ]
  },
  {
   "cell_type": "code",
   "execution_count": 290,
   "id": "28b7e244",
   "metadata": {},
   "outputs": [
    {
     "name": "stdout",
     "output_type": "stream",
     "text": [
      "[[11 21 31]\n",
      " [12 22 32]\n",
      " [13 23 33]]\n"
     ]
    }
   ],
   "source": [
    "a = n.array([[1], [2], [3]])\n",
    "b = n.array([10, 20, 30])\n",
    "print(a + b)"
   ]
  },
  {
   "cell_type": "markdown",
   "id": "c5660aea",
   "metadata": {},
   "source": [
    "\n",
    "a=[[1],\n",
    "[2],\n",
    "[3]]\n",
    "b = [10, 20, 30]\n",
    "\n",
    "[[ 1+10,  1+20,  1+30],\n",
    "[ 2+10,  2+20,  2+30],\n",
    "[ 3+10,  3+20,  3+30]]"
   ]
  },
  {
   "cell_type": "code",
   "execution_count": 291,
   "id": "7a2c74b4",
   "metadata": {},
   "outputs": [
    {
     "name": "stdout",
     "output_type": "stream",
     "text": [
      "[[11 21 31]\n",
      " [12 22 32]\n",
      " [13 23 33]]\n"
     ]
    }
   ],
   "source": [
    "a = n.array([[1], [2], [3]])\n",
    "b = n.array([10, 20, 30])\n",
    "print(a + b)"
   ]
  },
  {
   "cell_type": "markdown",
   "id": "2f4d3305",
   "metadata": {},
   "source": [
    "# vectorized operations and unviersal functions"
   ]
  },
  {
   "cell_type": "code",
   "execution_count": null,
   "id": "a76d9691",
   "metadata": {},
   "outputs": [
    {
     "name": "stdout",
     "output_type": "stream",
     "text": [
      "[5 7 9]\n"
     ]
    }
   ],
   "source": [
    "a = n.array([1, 2, 3])\n",
    "b = n.array([4, 5, 6])\n",
    "print(a + b)      \n"
   ]
  },
  {
   "cell_type": "code",
   "execution_count": 298,
   "id": "30196fb2",
   "metadata": {},
   "outputs": [
    {
     "name": "stdout",
     "output_type": "stream",
     "text": [
      "[1.         1.41421356 1.73205081]\n"
     ]
    }
   ],
   "source": [
    "print(n.sqrt(a))  "
   ]
  },
  {
   "cell_type": "markdown",
   "id": "f210dab8",
   "metadata": {},
   "source": [
    "# Structured and masked Arrays"
   ]
  },
  {
   "cell_type": "code",
   "execution_count": 300,
   "id": "9469cfb9",
   "metadata": {},
   "outputs": [
    {
     "data": {
      "text/plain": [
       "array([(1, 'Alice'), (2, 'Bob')], dtype=[('id', '<i4'), ('name', '<U10')])"
      ]
     },
     "execution_count": 300,
     "metadata": {},
     "output_type": "execute_result"
    }
   ],
   "source": [
    "data = n.array([(1, 'Alice'), (2, 'Bob')],\n",
    "                dtype=[('id', 'i4'), ('name', 'U10')])\n",
    "data"
   ]
  },
  {
   "cell_type": "code",
   "execution_count": 301,
   "id": "bcc76d8d",
   "metadata": {},
   "outputs": [
    {
     "data": {
      "text/plain": [
       "array(['Alice', 'Bob'], dtype='<U10')"
      ]
     },
     "execution_count": 301,
     "metadata": {},
     "output_type": "execute_result"
    }
   ],
   "source": [
    "data['name']"
   ]
  },
  {
   "cell_type": "code",
   "execution_count": 302,
   "id": "27412826",
   "metadata": {},
   "outputs": [
    {
     "data": {
      "text/plain": [
       "masked_array(data=[1, 2, --, 4],\n",
       "             mask=[False, False,  True, False],\n",
       "       fill_value=999999)"
      ]
     },
     "execution_count": 302,
     "metadata": {},
     "output_type": "execute_result"
    }
   ],
   "source": [
    "from numpy import ma\n",
    "masked = ma.masked_array([1, 2, -999, 4], mask=[0, 0, 1, 0])\n",
    "masked"
   ]
  },
  {
   "cell_type": "markdown",
   "id": "38a8b68c",
   "metadata": {},
   "source": [
    "# Random Number Generation"
   ]
  },
  {
   "cell_type": "code",
   "execution_count": 303,
   "id": "ececca49",
   "metadata": {},
   "outputs": [
    {
     "data": {
      "text/plain": [
       "Generator(PCG64) at 0x1D1FFCAD8C0"
      ]
     },
     "execution_count": 303,
     "metadata": {},
     "output_type": "execute_result"
    }
   ],
   "source": [
    "rng = n.random.default_rng()\n",
    "rng"
   ]
  },
  {
   "cell_type": "code",
   "execution_count": 304,
   "id": "9d5b0185",
   "metadata": {},
   "outputs": [
    {
     "data": {
      "text/plain": [
       "array([3, 8, 8, 6, 4])"
      ]
     },
     "execution_count": 304,
     "metadata": {},
     "output_type": "execute_result"
    }
   ],
   "source": [
    "rng.integers(1, 10, size=5)"
   ]
  },
  {
   "cell_type": "code",
   "execution_count": 305,
   "id": "0bd26446",
   "metadata": {},
   "outputs": [
    {
     "data": {
      "text/plain": [
       "array([[ 1.52908544,  1.57040391],\n",
       "       [-1.14990132, -1.63719481]])"
      ]
     },
     "execution_count": 305,
     "metadata": {},
     "output_type": "execute_result"
    }
   ],
   "source": [
    "rng.normal(0, 1, size=(2,2))"
   ]
  },
  {
   "cell_type": "code",
   "execution_count": 306,
   "id": "cbbf29ae",
   "metadata": {},
   "outputs": [
    {
     "data": {
      "text/plain": [
       "array([3, 5, 1, 1, 4, 2, 3, 4, 1, 3])"
      ]
     },
     "execution_count": 306,
     "metadata": {},
     "output_type": "execute_result"
    }
   ],
   "source": [
    "rng.choice([1, 2, 3, 4, 5], size=10)"
   ]
  },
  {
   "cell_type": "markdown",
   "id": "3ca43a46",
   "metadata": {},
   "source": [
    "# I/O and Performance Tips"
   ]
  },
  {
   "cell_type": "code",
   "execution_count": 307,
   "id": "d9dfe57f",
   "metadata": {},
   "outputs": [],
   "source": [
    "n.save('my_array.npy', a)"
   ]
  },
  {
   "cell_type": "code",
   "execution_count": 309,
   "id": "b5d40ddd",
   "metadata": {},
   "outputs": [
    {
     "data": {
      "text/plain": [
       "array([1, 2, 3])"
      ]
     },
     "execution_count": 309,
     "metadata": {},
     "output_type": "execute_result"
    }
   ],
   "source": [
    "loaded = n.load('my_array.npy')\n",
    "loaded"
   ]
  },
  {
   "cell_type": "code",
   "execution_count": 310,
   "id": "b49148b2",
   "metadata": {},
   "outputs": [],
   "source": [
    "n.savetxt('my_array.txt', a)"
   ]
  }
 ],
 "metadata": {
  "kernelspec": {
   "display_name": ".venv",
   "language": "python",
   "name": "python3"
  },
  "language_info": {
   "codemirror_mode": {
    "name": "ipython",
    "version": 3
   },
   "file_extension": ".py",
   "mimetype": "text/x-python",
   "name": "python",
   "nbconvert_exporter": "python",
   "pygments_lexer": "ipython3",
   "version": "3.10.0"
  }
 },
 "nbformat": 4,
 "nbformat_minor": 5
}
