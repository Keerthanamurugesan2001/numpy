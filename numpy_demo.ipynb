{
 "cells": [
  {
   "cell_type": "code",
   "execution_count": 229,
   "id": "f0571c54",
   "metadata": {},
   "outputs": [],
   "source": [
    "import numpy as n"
   ]
  },
  {
   "cell_type": "code",
   "execution_count": 230,
   "id": "985491c9",
   "metadata": {},
   "outputs": [
    {
     "data": {
      "text/plain": [
       "array([1, 3, 5, 7])"
      ]
     },
     "execution_count": 230,
     "metadata": {},
     "output_type": "execute_result"
    }
   ],
   "source": [
    "# create a numpy array\n",
    "a = n.array([1,3,5,7])\n",
    "a"
   ]
  },
  {
   "cell_type": "code",
   "execution_count": 231,
   "id": "cf20ed1c",
   "metadata": {},
   "outputs": [
    {
     "data": {
      "text/plain": [
       "array([0, 2, 4, 6, 8])"
      ]
     },
     "execution_count": 231,
     "metadata": {},
     "output_type": "execute_result"
    }
   ],
   "source": [
    "a = n.arange(start = 0, stop=10, step=2)\n",
    "a"
   ]
  },
  {
   "cell_type": "code",
   "execution_count": 232,
   "id": "58099586",
   "metadata": {},
   "outputs": [],
   "source": [
    "# shape and dimension array\n",
    "x = n.array([1,2,3,4])\n",
    "x1 = n.array([[1,2,3],[4,5,6]])"
   ]
  },
  {
   "cell_type": "code",
   "execution_count": 233,
   "id": "dce53e7a",
   "metadata": {},
   "outputs": [
    {
     "name": "stdout",
     "output_type": "stream",
     "text": [
      "1\n",
      "2\n"
     ]
    }
   ],
   "source": [
    "print(x.ndim)\n",
    "print(x1.ndim)"
   ]
  },
  {
   "cell_type": "code",
   "execution_count": 234,
   "id": "82640740",
   "metadata": {},
   "outputs": [
    {
     "name": "stdout",
     "output_type": "stream",
     "text": [
      "(4,)\n"
     ]
    }
   ],
   "source": [
    "x = n.array([1,2,3,4])\n",
    "print(x.shape)"
   ]
  },
  {
   "cell_type": "code",
   "execution_count": 235,
   "id": "6ffc6eeb",
   "metadata": {},
   "outputs": [
    {
     "name": "stdout",
     "output_type": "stream",
     "text": [
      "(2, 6)\n"
     ]
    }
   ],
   "source": [
    "x1= n.array([[1,2,3,4,5,6],[1,2,3,4,5,7]])\n",
    "print(x1.shape)"
   ]
  },
  {
   "cell_type": "code",
   "execution_count": 236,
   "id": "8800d88c",
   "metadata": {},
   "outputs": [
    {
     "name": "stdout",
     "output_type": "stream",
     "text": [
      "(4,)\n"
     ]
    }
   ],
   "source": [
    "x = n.array([1,2,3,4],[])\n",
    "print(x.shape)"
   ]
  },
  {
   "cell_type": "code",
   "execution_count": 237,
   "id": "801f8094",
   "metadata": {},
   "outputs": [
    {
     "ename": "TypeError",
     "evalue": "Field elements must be 2- or 3-tuples, got '1'",
     "output_type": "error",
     "traceback": [
      "\u001b[0;31m---------------------------------------------------------------------------\u001b[0m",
      "\u001b[0;31mTypeError\u001b[0m                                 Traceback (most recent call last)",
      "\u001b[0;32m/tmp/ipykernel_23556/3173467637.py\u001b[0m in \u001b[0;36m<module>\u001b[0;34m\u001b[0m\n\u001b[0;32m----> 1\u001b[0;31m \u001b[0mx\u001b[0m \u001b[0;34m=\u001b[0m \u001b[0mn\u001b[0m\u001b[0;34m.\u001b[0m\u001b[0marray\u001b[0m\u001b[0;34m(\u001b[0m\u001b[0;34m[\u001b[0m\u001b[0;36m1\u001b[0m\u001b[0;34m,\u001b[0m\u001b[0;36m2\u001b[0m\u001b[0;34m,\u001b[0m\u001b[0;36m3\u001b[0m\u001b[0;34m,\u001b[0m\u001b[0;36m4\u001b[0m\u001b[0;34m]\u001b[0m\u001b[0;34m,\u001b[0m\u001b[0;34m[\u001b[0m\u001b[0;36m1\u001b[0m\u001b[0;34m,\u001b[0m\u001b[0;36m2\u001b[0m\u001b[0;34m,\u001b[0m\u001b[0;36m3\u001b[0m\u001b[0;34m,\u001b[0m\u001b[0;36m4\u001b[0m\u001b[0;34m,\u001b[0m\u001b[0;36m5\u001b[0m\u001b[0;34m]\u001b[0m\u001b[0;34m)\u001b[0m\u001b[0;34m\u001b[0m\u001b[0;34m\u001b[0m\u001b[0m\n\u001b[0m\u001b[1;32m      2\u001b[0m \u001b[0mprint\u001b[0m\u001b[0;34m(\u001b[0m\u001b[0mx\u001b[0m\u001b[0;34m.\u001b[0m\u001b[0mshape\u001b[0m\u001b[0;34m)\u001b[0m\u001b[0;34m\u001b[0m\u001b[0;34m\u001b[0m\u001b[0m\n",
      "\u001b[0;31mTypeError\u001b[0m: Field elements must be 2- or 3-tuples, got '1'"
     ]
    }
   ],
   "source": [
    "x = n.array([1,2,3,4],[1,2,3,4,5])\n",
    "print(x.shape)"
   ]
  },
  {
   "cell_type": "code",
   "execution_count": null,
   "id": "7d446bd6",
   "metadata": {},
   "outputs": [],
   "source": [
    "# indexing numpy array\n",
    "m1 = n.arange(13)\n",
    "m1"
   ]
  },
  {
   "cell_type": "code",
   "execution_count": null,
   "id": "701e7d9f",
   "metadata": {},
   "outputs": [],
   "source": [
    "m1[0]"
   ]
  },
  {
   "cell_type": "code",
   "execution_count": null,
   "id": "9f650af9",
   "metadata": {},
   "outputs": [],
   "source": [
    "m1[4]"
   ]
  },
  {
   "cell_type": "code",
   "execution_count": null,
   "id": "1b9d2b60",
   "metadata": {},
   "outputs": [],
   "source": [
    "m1[-11]"
   ]
  },
  {
   "cell_type": "code",
   "execution_count": null,
   "id": "0a301bc5",
   "metadata": {},
   "outputs": [],
   "source": [
    "m1[13]"
   ]
  },
  {
   "cell_type": "code",
   "execution_count": null,
   "id": "9b9fb58b",
   "metadata": {},
   "outputs": [],
   "source": [
    "m1[-0]"
   ]
  },
  {
   "cell_type": "code",
   "execution_count": null,
   "id": "ba5d86d7",
   "metadata": {},
   "outputs": [],
   "source": [
    "m1[-1]"
   ]
  },
  {
   "cell_type": "code",
   "execution_count": null,
   "id": "decd8764",
   "metadata": {},
   "outputs": [],
   "source": [
    "m1 = n.array([100, 200, 300, 400, 500])\n",
    "m1"
   ]
  },
  {
   "cell_type": "code",
   "execution_count": null,
   "id": "81353e20",
   "metadata": {},
   "outputs": [],
   "source": [
    "m1[[4,3,2,1,0]]"
   ]
  },
  {
   "cell_type": "code",
   "execution_count": null,
   "id": "0f555630",
   "metadata": {},
   "outputs": [],
   "source": [
    "m1[[2,2,3,1,0]]"
   ]
  },
  {
   "cell_type": "code",
   "execution_count": null,
   "id": "ab90d6c7",
   "metadata": {},
   "outputs": [],
   "source": [
    "# slicing numpy array\n",
    "#  arr[start:end:step]\n",
    "m = n.arange(12)\n",
    "m"
   ]
  },
  {
   "cell_type": "code",
   "execution_count": null,
   "id": "73828c52",
   "metadata": {},
   "outputs": [],
   "source": [
    "m[:5]"
   ]
  },
  {
   "cell_type": "code",
   "execution_count": null,
   "id": "1949ca3c",
   "metadata": {},
   "outputs": [],
   "source": [
    "m[5:]"
   ]
  },
  {
   "cell_type": "code",
   "execution_count": null,
   "id": "1bd25a76",
   "metadata": {},
   "outputs": [],
   "source": [
    "m[:-1]"
   ]
  },
  {
   "cell_type": "code",
   "execution_count": null,
   "id": "920ace22",
   "metadata": {},
   "outputs": [],
   "source": [
    "m[-5:-1]"
   ]
  },
  {
   "cell_type": "code",
   "execution_count": null,
   "id": "da8a6157",
   "metadata": {},
   "outputs": [],
   "source": [
    "m[-5:1:-1]"
   ]
  },
  {
   "cell_type": "code",
   "execution_count": null,
   "id": "75ebe14b",
   "metadata": {},
   "outputs": [],
   "source": [
    "m[-5:-1:1]"
   ]
  },
  {
   "cell_type": "code",
   "execution_count": null,
   "id": "b5daeba6",
   "metadata": {},
   "outputs": [],
   "source": [
    "m[5:-1:1]"
   ]
  },
  {
   "cell_type": "code",
   "execution_count": null,
   "id": "657562e2",
   "metadata": {},
   "outputs": [],
   "source": [
    "#fancy indexing\n",
    "m = n.arange(10)\n",
    "m"
   ]
  },
  {
   "cell_type": "code",
   "execution_count": null,
   "id": "37f36c1a",
   "metadata": {},
   "outputs": [],
   "source": [
    "m<5"
   ]
  },
  {
   "cell_type": "code",
   "execution_count": null,
   "id": "a4b71f53",
   "metadata": {},
   "outputs": [],
   "source": [
    "m[m<5]"
   ]
  },
  {
   "cell_type": "code",
   "execution_count": null,
   "id": "f6b21b20",
   "metadata": {},
   "outputs": [],
   "source": [
    "v = filter(lambda x: x<5, m)\n",
    "list(v)"
   ]
  },
  {
   "cell_type": "code",
   "execution_count": null,
   "id": "7ece65c2",
   "metadata": {},
   "outputs": [],
   "source": [
    "m[(m%2 == 0) | (m%5 == 0)]"
   ]
  },
  {
   "cell_type": "code",
   "execution_count": null,
   "id": "d26b1a9d",
   "metadata": {},
   "outputs": [],
   "source": [
    "(m%2 == 0) | (m%5 == 0)"
   ]
  },
  {
   "cell_type": "code",
   "execution_count": null,
   "id": "174d6e5c",
   "metadata": {},
   "outputs": [],
   "source": [
    "# aggregate and reduction function\n",
    "n.mean(m)"
   ]
  },
  {
   "cell_type": "code",
   "execution_count": null,
   "id": "f178df7a",
   "metadata": {},
   "outputs": [],
   "source": [
    "n.mean([1,2,3,4,10,10])"
   ]
  },
  {
   "cell_type": "code",
   "execution_count": null,
   "id": "cf7c3da8",
   "metadata": {},
   "outputs": [],
   "source": [
    "n.min(m)"
   ]
  },
  {
   "cell_type": "code",
   "execution_count": null,
   "id": "10885774",
   "metadata": {},
   "outputs": [],
   "source": [
    "n.max(m)"
   ]
  },
  {
   "cell_type": "code",
   "execution_count": null,
   "id": "7fa0222e",
   "metadata": {},
   "outputs": [],
   "source": [
    "print(n.argmin(m))\n",
    "n.argmin([13,14, 3, 12, 9])\n"
   ]
  },
  {
   "cell_type": "code",
   "execution_count": null,
   "id": "0fbb1a49",
   "metadata": {},
   "outputs": [],
   "source": [
    "n.argmax(m)\n",
    "n.argmax([13,14, 3, 12, 19])"
   ]
  },
  {
   "cell_type": "code",
   "execution_count": null,
   "id": "3df66765",
   "metadata": {},
   "outputs": [],
   "source": [
    "# any and all\n",
    "a = n.array([1,2,3,4])\n",
    "b = n.array([2,3,4,5])\n",
    "n.any(a<b)"
   ]
  },
  {
   "cell_type": "code",
   "execution_count": null,
   "id": "9d934f56",
   "metadata": {},
   "outputs": [],
   "source": [
    "n.any(a>b)"
   ]
  },
  {
   "cell_type": "code",
   "execution_count": null,
   "id": "42c2c2df",
   "metadata": {},
   "outputs": [],
   "source": [
    "n.all(a<b)"
   ]
  },
  {
   "cell_type": "code",
   "execution_count": null,
   "id": "34870edc",
   "metadata": {},
   "outputs": [],
   "source": [
    "n.all(b<a)"
   ]
  },
  {
   "cell_type": "code",
   "execution_count": null,
   "id": "e4f9ba85",
   "metadata": {},
   "outputs": [],
   "source": [
    "a = n.array([1,2,3,2])\n",
    "b = n.array([2,2,3,2])\n",
    "c = n.array([6,4,4,5])\n",
    "((a <= b) & (b <= c)).all()"
   ]
  },
  {
   "cell_type": "code",
   "execution_count": null,
   "id": "be3929f8",
   "metadata": {},
   "outputs": [],
   "source": [
    "# update array based on condition / np.where"
   ]
  },
  {
   "cell_type": "code",
   "execution_count": null,
   "id": "e0f104d2",
   "metadata": {},
   "outputs": [],
   "source": [
    "arr = n.array([-31, -2, 9, -3, -5, 7, 9, 45, -34, -9])\n",
    "arr"
   ]
  },
  {
   "cell_type": "code",
   "execution_count": null,
   "id": "7eb56cea",
   "metadata": {},
   "outputs": [],
   "source": [
    "arr[arr<0]"
   ]
  },
  {
   "cell_type": "code",
   "execution_count": null,
   "id": "828debc2",
   "metadata": {},
   "outputs": [],
   "source": [
    "arr[arr<0] = -1\n"
   ]
  },
  {
   "cell_type": "code",
   "execution_count": null,
   "id": "a2a5fcca",
   "metadata": {},
   "outputs": [],
   "source": [
    "arr"
   ]
  },
  {
   "cell_type": "code",
   "execution_count": null,
   "id": "8f89bf6d",
   "metadata": {},
   "outputs": [],
   "source": [
    "arr[arr>0] = 1"
   ]
  },
  {
   "cell_type": "code",
   "execution_count": null,
   "id": "3e51cda5",
   "metadata": {},
   "outputs": [],
   "source": [
    "arr"
   ]
  },
  {
   "cell_type": "code",
   "execution_count": null,
   "id": "4746ee6b",
   "metadata": {},
   "outputs": [],
   "source": [
    "arr = n.array([-31, -2, 9, -3, -5, 7, 9, 45, -34, -9])"
   ]
  },
  {
   "cell_type": "code",
   "execution_count": null,
   "id": "939f5ff3",
   "metadata": {},
   "outputs": [],
   "source": [
    "n.where(arr > 0, +1, -1)"
   ]
  },
  {
   "cell_type": "code",
   "execution_count": null,
   "id": "fc786299",
   "metadata": {},
   "outputs": [],
   "source": [
    "# sorting array\n",
    "a = n.array([2,30, 41,7,17, 52])"
   ]
  },
  {
   "cell_type": "code",
   "execution_count": null,
   "id": "5224ef6d",
   "metadata": {},
   "outputs": [],
   "source": [
    "n.sort(a)"
   ]
  },
  {
   "cell_type": "code",
   "execution_count": null,
   "id": "4b2b7607",
   "metadata": {},
   "outputs": [],
   "source": [
    "a=n.arange(9, 0, -1).reshape(3,3)\n",
    "a"
   ]
  },
  {
   "cell_type": "code",
   "execution_count": null,
   "id": "ad9f05f7",
   "metadata": {},
   "outputs": [],
   "source": [
    "n.sort(a) # defualt axis=1"
   ]
  },
  {
   "cell_type": "code",
   "execution_count": null,
   "id": "c4b3cd4b",
   "metadata": {},
   "outputs": [],
   "source": [
    "a"
   ]
  },
  {
   "cell_type": "code",
   "execution_count": null,
   "id": "2b3458c9",
   "metadata": {},
   "outputs": [],
   "source": [
    "n.sort(a, axis=1)#  1 is x-axis"
   ]
  },
  {
   "cell_type": "code",
   "execution_count": null,
   "id": "592263a6",
   "metadata": {},
   "outputs": [],
   "source": [
    "n.sort(a, axis=0)"
   ]
  },
  {
   "cell_type": "code",
   "execution_count": null,
   "id": "a293af08",
   "metadata": {},
   "outputs": [],
   "source": [
    "a[1,0] = 36\n",
    "a"
   ]
  },
  {
   "cell_type": "code",
   "execution_count": null,
   "id": "7177f5f0",
   "metadata": {},
   "outputs": [],
   "source": [
    "a=n.sort(a, axis=0) # 0 is y-axis"
   ]
  },
  {
   "cell_type": "code",
   "execution_count": null,
   "id": "7d71df82",
   "metadata": {},
   "outputs": [],
   "source": [
    "a"
   ]
  },
  {
   "cell_type": "code",
   "execution_count": null,
   "id": "7367ec73",
   "metadata": {},
   "outputs": [],
   "source": [
    "a = n.array([2, 30, 41, 7, 17,8, 9])\n",
    "a"
   ]
  },
  {
   "cell_type": "code",
   "execution_count": null,
   "id": "689ed66c",
   "metadata": {},
   "outputs": [],
   "source": [
    "n.argsort(a)"
   ]
  },
  {
   "cell_type": "code",
   "execution_count": null,
   "id": "19e883b5",
   "metadata": {},
   "outputs": [],
   "source": [
    "n.sort(a)"
   ]
  },
  {
   "cell_type": "code",
   "execution_count": null,
   "id": "f67f457d",
   "metadata": {},
   "outputs": [],
   "source": [
    "# Reshape and Flatten"
   ]
  },
  {
   "cell_type": "code",
   "execution_count": null,
   "id": "f037f455",
   "metadata": {},
   "outputs": [],
   "source": [
    "a = n.arange(6).reshape(3,2)\n",
    "a"
   ]
  },
  {
   "cell_type": "code",
   "execution_count": null,
   "id": "5826be0a",
   "metadata": {},
   "outputs": [],
   "source": [
    "a.flatten()"
   ]
  },
  {
   "cell_type": "code",
   "execution_count": null,
   "id": "8cc34059",
   "metadata": {},
   "outputs": [],
   "source": [
    "a.reshape(6)"
   ]
  },
  {
   "cell_type": "code",
   "execution_count": null,
   "id": "442e568d",
   "metadata": {},
   "outputs": [],
   "source": [
    "a.reshape(len(a)*len(a[0]))"
   ]
  },
  {
   "cell_type": "code",
   "execution_count": null,
   "id": "63ca2c8b",
   "metadata": {},
   "outputs": [],
   "source": [
    "a.reshape(-1)"
   ]
  },
  {
   "cell_type": "code",
   "execution_count": null,
   "id": "78c54eef",
   "metadata": {},
   "outputs": [],
   "source": [
    "a.reshape(-6)"
   ]
  },
  {
   "cell_type": "code",
   "execution_count": null,
   "id": "bb59dab6",
   "metadata": {},
   "outputs": [],
   "source": [
    "#matrix multiplication\n",
    "# column of a = 4 and row of b = 4"
   ]
  },
  {
   "cell_type": "code",
   "execution_count": null,
   "id": "52bbdaa8",
   "metadata": {},
   "outputs": [],
   "source": [
    "a = n.arange(12).reshape(4,3)# column of a = 4, row of a = 3\n",
    "a"
   ]
  },
  {
   "cell_type": "code",
   "execution_count": null,
   "id": "6700574e",
   "metadata": {},
   "outputs": [],
   "source": [
    "b= n.arange(12).reshape(4,3)# column of a = 3, row of a = 4\n",
    "b"
   ]
  },
  {
   "attachments": {
    "dot_product.jpg": {
     "image/jpeg": "[encoded data removed]"
    }
   },
   "cell_type": "markdown",
   "id": "c7d2952d",
   "metadata": {},
   "source": [
    "![dot_product.jpg](attachment:dot_product.jpg)"
   ]
  },
  {
   "cell_type": "code",
   "execution_count": null,
   "id": "7eac506c",
   "metadata": {},
   "outputs": [],
   "source": [
    "a.reshape(4,3)*b # row and column should be same like size 4*3, 4*3"
   ]
  },
  {
   "cell_type": "code",
   "execution_count": null,
   "id": "33178857",
   "metadata": {},
   "outputs": [],
   "source": [
    "a = n.arange(12).reshape(3, 4)# column of a = 4, row of a = 3\n",
    "a"
   ]
  },
  {
   "attachments": {
    "scalar_product.png": {
     "image/png": "[encoded data removed]"
    }
   },
   "cell_type": "markdown",
   "id": "0c1055eb",
   "metadata": {},
   "source": [
    "![scalar_product.png](attachment:scalar_product.png)"
   ]
  },
  {
   "cell_type": "code",
   "execution_count": null,
   "id": "814452f2",
   "metadata": {},
   "outputs": [],
   "source": [
    "n.matmul(a,b)"
   ]
  },
  {
   "cell_type": "code",
   "execution_count": null,
   "id": "2f633404",
   "metadata": {},
   "outputs": [],
   "source": [
    "a@b"
   ]
  },
  {
   "cell_type": "code",
   "execution_count": null,
   "id": "de8d8205",
   "metadata": {},
   "outputs": [],
   "source": [
    "c = n.arange(16).reshape(4,4)# column of a = 4, row of a = 4\n",
    "c"
   ]
  },
  {
   "cell_type": "code",
   "execution_count": null,
   "id": "097cc6f9",
   "metadata": {},
   "outputs": [],
   "source": [
    "a@c"
   ]
  },
  {
   "cell_type": "code",
   "execution_count": null,
   "id": "bf0e825c",
   "metadata": {},
   "outputs": [],
   "source": [
    "c = n.arange(20).reshape(5,4) #wrong row number row = 5, column = 4\n",
    "#c"
   ]
  },
  {
   "cell_type": "code",
   "execution_count": null,
   "id": "505abe9a",
   "metadata": {},
   "outputs": [],
   "source": [
    "a@c"
   ]
  },
  {
   "cell_type": "code",
   "execution_count": null,
   "id": "cef8b8a7",
   "metadata": {},
   "outputs": [],
   "source": [
    "# dot product of array"
   ]
  },
  {
   "cell_type": "code",
   "execution_count": null,
   "id": "c38f5fd2",
   "metadata": {},
   "outputs": [],
   "source": [
    "n.dot(3,2)"
   ]
  },
  {
   "cell_type": "code",
   "execution_count": null,
   "id": "20eb2bfd",
   "metadata": {},
   "outputs": [],
   "source": [
    "# 1-D is inner product of vector\n",
    "a = n.array([1,2,3])\n",
    "b = n.array([4,5,6])\n",
    "print(a, b)"
   ]
  },
  {
   "attachments": {
    "dot_product.jpg": {
     "image/jpeg": "[encoded data removed]"
    }
   },
   "cell_type": "markdown",
   "id": "e5a1667d",
   "metadata": {},
   "source": [
    "![dot_product.jpg](attachment:dot_product.jpg)"
   ]
  },
  {
   "cell_type": "code",
   "execution_count": null,
   "id": "0da39e41",
   "metadata": {},
   "outputs": [],
   "source": [
    "n.dot(a,b)  "
   ]
  },
  {
   "cell_type": "code",
   "execution_count": 238,
   "id": "f19683d8",
   "metadata": {},
   "outputs": [
    {
     "name": "stdout",
     "output_type": "stream",
     "text": [
      "[[ 0  1  2  3]\n",
      " [ 4  5  6  7]\n",
      " [ 8  9 10 11]] [[ 0  1  2]\n",
      " [ 3  4  5]\n",
      " [ 6  7  8]\n",
      " [ 9 10 11]]\n"
     ]
    }
   ],
   "source": [
    "# 2-D is matrix multiplication\n",
    "a = n.arange(12).reshape(3,4)\n",
    "b = n.arange(12).reshape(4,3)\n",
    "print(a, b)"
   ]
  },
  {
   "attachments": {
    "scalar_product.png": {
     "image/png": "[encoded data removed]"
    }
   },
   "cell_type": "markdown",
   "id": "0b0ea0f6",
   "metadata": {},
   "source": [
    "![scalar_product.png](attachment:scalar_product.png)"
   ]
  },
  {
   "cell_type": "code",
   "execution_count": 240,
   "id": "a48caf69",
   "metadata": {},
   "outputs": [
    {
     "data": {
      "text/plain": [
       "array([[ 42,  48,  54],\n",
       "       [114, 136, 158],\n",
       "       [186, 224, 262]])"
      ]
     },
     "execution_count": 240,
     "metadata": {},
     "output_type": "execute_result"
    }
   ],
   "source": [
    "n.dot(a,b)"
   ]
  },
  {
   "cell_type": "code",
   "execution_count": 241,
   "id": "a1a1ed5c",
   "metadata": {},
   "outputs": [
    {
     "name": "stdout",
     "output_type": "stream",
     "text": [
      "1 2\n"
     ]
    }
   ],
   "source": [
    "# 0-D is multiply or a*b\n",
    "a = n.array(1)\n",
    "b = n.array(2)\n",
    "print(a, b)"
   ]
  },
  {
   "cell_type": "code",
   "execution_count": 242,
   "id": "2c3dec9d",
   "metadata": {},
   "outputs": [
    {
     "data": {
      "text/plain": [
       "2"
      ]
     },
     "execution_count": 242,
     "metadata": {},
     "output_type": "execute_result"
    }
   ],
   "source": [
    "n.dot(a,b)"
   ]
  },
  {
   "cell_type": "code",
   "execution_count": 244,
   "id": "54c7ccb2",
   "metadata": {},
   "outputs": [
    {
     "data": {
      "text/plain": [
       "2"
      ]
     },
     "execution_count": 244,
     "metadata": {},
     "output_type": "execute_result"
    }
   ],
   "source": [
    "n.multiply(a, b)"
   ]
  },
  {
   "cell_type": "code",
   "execution_count": null,
   "id": "b9b098b2",
   "metadata": {},
   "outputs": [],
   "source": [
    "# vectorization:\n"
   ]
  }
 ],
 "metadata": {
  "kernelspec": {
   "display_name": "Python 3 (ipykernel)",
   "language": "python",
   "name": "python3"
  },
  "language_info": {
   "codemirror_mode": {
    "name": "ipython",
    "version": 3
   },
   "file_extension": ".py",
   "mimetype": "text/x-python",
   "name": "python",
   "nbconvert_exporter": "python",
   "pygments_lexer": "ipython3",
   "version": "3.9.13"
  }
 },
 "nbformat": 4,
 "nbformat_minor": 5
}
